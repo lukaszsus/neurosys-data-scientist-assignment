{
 "cells": [
  {
   "cell_type": "markdown",
   "metadata": {},
   "source": [
    "# NeuroSYS - data science assignment\n",
    "\n",
    "**Author:** Łukasz Sus"
   ]
  },
  {
   "cell_type": "code",
   "execution_count": 1,
   "metadata": {},
   "outputs": [],
   "source": [
    "import sqlite3\n",
    "import pandas as pd\n",
    "import numpy as np\n",
    "import matplotlib.pyplot as plt"
   ]
  },
  {
   "cell_type": "markdown",
   "metadata": {},
   "source": [
    "1. Load received SQLite file: database.db."
   ]
  },
  {
   "cell_type": "code",
   "execution_count": 2,
   "metadata": {},
   "outputs": [],
   "source": [
    "conn = sqlite3.connect(\"database.db\")"
   ]
  },
  {
   "cell_type": "markdown",
   "metadata": {},
   "source": [
    "Get all tables names"
   ]
  },
  {
   "cell_type": "code",
   "execution_count": 3,
   "metadata": {},
   "outputs": [
    {
     "name": "stdout",
     "output_type": "stream",
     "text": [
      "('data',)\n",
      "('connection',)\n",
      "('additional_data',)\n"
     ]
    }
   ],
   "source": [
    "cur = conn.cursor()\n",
    "for row in cur.execute(\"SELECT name FROM sqlite_master WHERE type='table';\"):\n",
    "    print(row)"
   ]
  },
  {
   "cell_type": "markdown",
   "metadata": {},
   "source": [
    "Explore tables content"
   ]
  },
  {
   "cell_type": "code",
   "execution_count": 4,
   "metadata": {},
   "outputs": [
    {
     "data": {
      "text/html": [
       "<div>\n",
       "<style scoped>\n",
       "    .dataframe tbody tr th:only-of-type {\n",
       "        vertical-align: middle;\n",
       "    }\n",
       "\n",
       "    .dataframe tbody tr th {\n",
       "        vertical-align: top;\n",
       "    }\n",
       "\n",
       "    .dataframe thead th {\n",
       "        text-align: right;\n",
       "    }\n",
       "</style>\n",
       "<table border=\"1\" class=\"dataframe\">\n",
       "  <thead>\n",
       "    <tr style=\"text-align: right;\">\n",
       "      <th></th>\n",
       "      <th>id</th>\n",
       "      <th>x</th>\n",
       "      <th>y</th>\n",
       "      <th>z</th>\n",
       "      <th>connection_id</th>\n",
       "    </tr>\n",
       "  </thead>\n",
       "  <tbody>\n",
       "    <tr>\n",
       "      <th>0</th>\n",
       "      <td>1</td>\n",
       "      <td>44.628947</td>\n",
       "      <td>97.81099110033537</td>\n",
       "      <td>569.700453</td>\n",
       "      <td>105</td>\n",
       "    </tr>\n",
       "    <tr>\n",
       "      <th>1</th>\n",
       "      <td>2</td>\n",
       "      <td>40.764309</td>\n",
       "      <td>82.0486367746882</td>\n",
       "      <td>653.904064</td>\n",
       "      <td>76</td>\n",
       "    </tr>\n",
       "    <tr>\n",
       "      <th>2</th>\n",
       "      <td>3</td>\n",
       "      <td>25.849509</td>\n",
       "      <td>63.29510234435348</td>\n",
       "      <td>374.171176</td>\n",
       "      <td>72</td>\n",
       "    </tr>\n",
       "    <tr>\n",
       "      <th>3</th>\n",
       "      <td>4</td>\n",
       "      <td>18.973396</td>\n",
       "      <td>50.59596955801666</td>\n",
       "      <td>440.976635</td>\n",
       "      <td>239</td>\n",
       "    </tr>\n",
       "    <tr>\n",
       "      <th>4</th>\n",
       "      <td>5</td>\n",
       "      <td>44.787622</td>\n",
       "      <td>39.347747208411256</td>\n",
       "      <td>219.388963</td>\n",
       "      <td>152</td>\n",
       "    </tr>\n",
       "  </tbody>\n",
       "</table>\n",
       "</div>"
      ],
      "text/plain": [
       "   id          x                   y           z  connection_id\n",
       "0   1  44.628947   97.81099110033537  569.700453            105\n",
       "1   2  40.764309    82.0486367746882  653.904064             76\n",
       "2   3  25.849509   63.29510234435348  374.171176             72\n",
       "3   4  18.973396   50.59596955801666  440.976635            239\n",
       "4   5  44.787622  39.347747208411256  219.388963            152"
      ]
     },
     "execution_count": 4,
     "metadata": {},
     "output_type": "execute_result"
    }
   ],
   "source": [
    "df_data = pd.read_sql_query(\"SELECT * FROM data;\", conn)\n",
    "df_data.head()"
   ]
  },
  {
   "cell_type": "code",
   "execution_count": 5,
   "metadata": {},
   "outputs": [
    {
     "data": {
      "text/html": [
       "<div>\n",
       "<style scoped>\n",
       "    .dataframe tbody tr th:only-of-type {\n",
       "        vertical-align: middle;\n",
       "    }\n",
       "\n",
       "    .dataframe tbody tr th {\n",
       "        vertical-align: top;\n",
       "    }\n",
       "\n",
       "    .dataframe thead th {\n",
       "        text-align: right;\n",
       "    }\n",
       "</style>\n",
       "<table border=\"1\" class=\"dataframe\">\n",
       "  <thead>\n",
       "    <tr style=\"text-align: right;\">\n",
       "      <th></th>\n",
       "      <th>id</th>\n",
       "      <th>name</th>\n",
       "    </tr>\n",
       "  </thead>\n",
       "  <tbody>\n",
       "    <tr>\n",
       "      <th>0</th>\n",
       "      <td>2</td>\n",
       "      <td>blue</td>\n",
       "    </tr>\n",
       "    <tr>\n",
       "      <th>1</th>\n",
       "      <td>4</td>\n",
       "      <td>blue</td>\n",
       "    </tr>\n",
       "    <tr>\n",
       "      <th>2</th>\n",
       "      <td>9</td>\n",
       "      <td>blue</td>\n",
       "    </tr>\n",
       "    <tr>\n",
       "      <th>3</th>\n",
       "      <td>10</td>\n",
       "      <td>blue</td>\n",
       "    </tr>\n",
       "    <tr>\n",
       "      <th>4</th>\n",
       "      <td>15</td>\n",
       "      <td>blue</td>\n",
       "    </tr>\n",
       "  </tbody>\n",
       "</table>\n",
       "</div>"
      ],
      "text/plain": [
       "   id  name\n",
       "0   2  blue\n",
       "1   4  blue\n",
       "2   9  blue\n",
       "3  10  blue\n",
       "4  15  blue"
      ]
     },
     "execution_count": 5,
     "metadata": {},
     "output_type": "execute_result"
    }
   ],
   "source": [
    "df_connection = pd.read_sql_query(\"SELECT * FROM connection;\", conn)\n",
    "df_connection.head()"
   ]
  },
  {
   "cell_type": "code",
   "execution_count": 6,
   "metadata": {},
   "outputs": [
    {
     "data": {
      "text/html": [
       "<div>\n",
       "<style scoped>\n",
       "    .dataframe tbody tr th:only-of-type {\n",
       "        vertical-align: middle;\n",
       "    }\n",
       "\n",
       "    .dataframe tbody tr th {\n",
       "        vertical-align: top;\n",
       "    }\n",
       "\n",
       "    .dataframe thead th {\n",
       "        text-align: right;\n",
       "    }\n",
       "</style>\n",
       "<table border=\"1\" class=\"dataframe\">\n",
       "  <thead>\n",
       "    <tr style=\"text-align: right;\">\n",
       "      <th></th>\n",
       "      <th>color_id</th>\n",
       "      <th>color_name</th>\n",
       "    </tr>\n",
       "  </thead>\n",
       "  <tbody>\n",
       "    <tr>\n",
       "      <th>0</th>\n",
       "      <td>0</td>\n",
       "      <td>red</td>\n",
       "    </tr>\n",
       "    <tr>\n",
       "      <th>1</th>\n",
       "      <td>2</td>\n",
       "      <td>blue</td>\n",
       "    </tr>\n",
       "    <tr>\n",
       "      <th>2</th>\n",
       "      <td>3</td>\n",
       "      <td>yellow</td>\n",
       "    </tr>\n",
       "    <tr>\n",
       "      <th>3</th>\n",
       "      <td>4</td>\n",
       "      <td>orange</td>\n",
       "    </tr>\n",
       "    <tr>\n",
       "      <th>4</th>\n",
       "      <td>5</td>\n",
       "      <td>black</td>\n",
       "    </tr>\n",
       "  </tbody>\n",
       "</table>\n",
       "</div>"
      ],
      "text/plain": [
       "   color_id color_name\n",
       "0         0        red\n",
       "1         2       blue\n",
       "2         3     yellow\n",
       "3         4     orange\n",
       "4         5      black"
      ]
     },
     "execution_count": 6,
     "metadata": {},
     "output_type": "execute_result"
    }
   ],
   "source": [
    "df_additional = pd.read_sql_query(\"SELECT * FROM additional_data;\", conn)\n",
    "df_additional.head()"
   ]
  },
  {
   "cell_type": "markdown",
   "metadata": {},
   "source": [
    "2. The database.db file contains several tables. Use them to create Pandas DataFrame with x, y, z, color_id and color_name for every record."
   ]
  },
  {
   "cell_type": "code",
   "execution_count": 7,
   "metadata": {},
   "outputs": [
    {
     "data": {
      "text/html": [
       "<div>\n",
       "<style scoped>\n",
       "    .dataframe tbody tr th:only-of-type {\n",
       "        vertical-align: middle;\n",
       "    }\n",
       "\n",
       "    .dataframe tbody tr th {\n",
       "        vertical-align: top;\n",
       "    }\n",
       "\n",
       "    .dataframe thead th {\n",
       "        text-align: right;\n",
       "    }\n",
       "</style>\n",
       "<table border=\"1\" class=\"dataframe\">\n",
       "  <thead>\n",
       "    <tr style=\"text-align: right;\">\n",
       "      <th></th>\n",
       "      <th>x</th>\n",
       "      <th>y</th>\n",
       "      <th>z</th>\n",
       "      <th>color_id</th>\n",
       "      <th>color_name</th>\n",
       "    </tr>\n",
       "  </thead>\n",
       "  <tbody>\n",
       "    <tr>\n",
       "      <th>0</th>\n",
       "      <td>44.628947</td>\n",
       "      <td>97.81099110033537</td>\n",
       "      <td>569.700453</td>\n",
       "      <td>11</td>\n",
       "      <td>green</td>\n",
       "    </tr>\n",
       "    <tr>\n",
       "      <th>1</th>\n",
       "      <td>40.764309</td>\n",
       "      <td>82.0486367746882</td>\n",
       "      <td>653.904064</td>\n",
       "      <td>4</td>\n",
       "      <td>orange</td>\n",
       "    </tr>\n",
       "    <tr>\n",
       "      <th>2</th>\n",
       "      <td>25.849509</td>\n",
       "      <td>63.29510234435348</td>\n",
       "      <td>374.171176</td>\n",
       "      <td>4</td>\n",
       "      <td>orange</td>\n",
       "    </tr>\n",
       "    <tr>\n",
       "      <th>3</th>\n",
       "      <td>18.973396</td>\n",
       "      <td>50.59596955801666</td>\n",
       "      <td>440.976635</td>\n",
       "      <td>3</td>\n",
       "      <td>yellow</td>\n",
       "    </tr>\n",
       "    <tr>\n",
       "      <th>4</th>\n",
       "      <td>44.787622</td>\n",
       "      <td>39.347747208411256</td>\n",
       "      <td>219.388963</td>\n",
       "      <td>0</td>\n",
       "      <td>red</td>\n",
       "    </tr>\n",
       "    <tr>\n",
       "      <th>...</th>\n",
       "      <td>...</td>\n",
       "      <td>...</td>\n",
       "      <td>...</td>\n",
       "      <td>...</td>\n",
       "      <td>...</td>\n",
       "    </tr>\n",
       "    <tr>\n",
       "      <th>101195</th>\n",
       "      <td>1.851515</td>\n",
       "      <td>84.17753890986283</td>\n",
       "      <td>409.281547</td>\n",
       "      <td>5</td>\n",
       "      <td>black</td>\n",
       "    </tr>\n",
       "    <tr>\n",
       "      <th>101196</th>\n",
       "      <td>96.653658</td>\n",
       "      <td>89.89605659969567</td>\n",
       "      <td>172.548292</td>\n",
       "      <td>0</td>\n",
       "      <td>red</td>\n",
       "    </tr>\n",
       "    <tr>\n",
       "      <th>101197</th>\n",
       "      <td>21.920406</td>\n",
       "      <td>2.6404943806156767</td>\n",
       "      <td>176.266498</td>\n",
       "      <td>4</td>\n",
       "      <td>orange</td>\n",
       "    </tr>\n",
       "    <tr>\n",
       "      <th>101198</th>\n",
       "      <td>61.397586</td>\n",
       "      <td>65.83007246642215</td>\n",
       "      <td>300.539567</td>\n",
       "      <td>4</td>\n",
       "      <td>orange</td>\n",
       "    </tr>\n",
       "    <tr>\n",
       "      <th>101199</th>\n",
       "      <td>83.108091</td>\n",
       "      <td>83.16152742713933</td>\n",
       "      <td>348.745661</td>\n",
       "      <td>4</td>\n",
       "      <td>orange</td>\n",
       "    </tr>\n",
       "  </tbody>\n",
       "</table>\n",
       "<p>101200 rows × 5 columns</p>\n",
       "</div>"
      ],
      "text/plain": [
       "                x                   y           z  color_id color_name\n",
       "0       44.628947   97.81099110033537  569.700453        11      green\n",
       "1       40.764309    82.0486367746882  653.904064         4     orange\n",
       "2       25.849509   63.29510234435348  374.171176         4     orange\n",
       "3       18.973396   50.59596955801666  440.976635         3     yellow\n",
       "4       44.787622  39.347747208411256  219.388963         0        red\n",
       "...           ...                 ...         ...       ...        ...\n",
       "101195   1.851515   84.17753890986283  409.281547         5      black\n",
       "101196  96.653658   89.89605659969567  172.548292         0        red\n",
       "101197  21.920406  2.6404943806156767  176.266498         4     orange\n",
       "101198  61.397586   65.83007246642215  300.539567         4     orange\n",
       "101199  83.108091   83.16152742713933  348.745661         4     orange\n",
       "\n",
       "[101200 rows x 5 columns]"
      ]
     },
     "execution_count": 7,
     "metadata": {},
     "output_type": "execute_result"
    }
   ],
   "source": [
    "df_main = pd.read_sql_query(\"SELECT x, y, z, color_id, color_name \"\n",
    "                           + \"FROM data \"\n",
    "                           + \"JOIN connection ON data.connection_id=connection.id \"\n",
    "                           + \"JOIN additional_data ON connection.name=additional_data.color_name;\", conn)\n",
    "df_main"
   ]
  },
  {
   "cell_type": "markdown",
   "metadata": {},
   "source": [
    "3. Note, that x, y, z should be converted to floating-point format (if necessary), and color_id to integers."
   ]
  },
  {
   "cell_type": "code",
   "execution_count": 8,
   "metadata": {},
   "outputs": [
    {
     "data": {
      "text/plain": [
       "x             float64\n",
       "y              object\n",
       "z             float64\n",
       "color_id        int64\n",
       "color_name     object\n",
       "dtype: object"
      ]
     },
     "execution_count": 8,
     "metadata": {},
     "output_type": "execute_result"
    }
   ],
   "source": [
    "df_main.dtypes"
   ]
  },
  {
   "cell_type": "code",
   "execution_count": 9,
   "metadata": {},
   "outputs": [],
   "source": [
    "df_main = df_main.astype({\"x\": float, \"y\": float, \"z\": float, \"color_id\": int})"
   ]
  },
  {
   "cell_type": "code",
   "execution_count": 10,
   "metadata": {},
   "outputs": [
    {
     "data": {
      "text/plain": [
       "x             float64\n",
       "y             float64\n",
       "z             float64\n",
       "color_id        int64\n",
       "color_name     object\n",
       "dtype: object"
      ]
     },
     "execution_count": 10,
     "metadata": {},
     "output_type": "execute_result"
    }
   ],
   "source": [
    "df_main.dtypes"
   ]
  },
  {
   "cell_type": "markdown",
   "metadata": {},
   "source": [
    "4. All invalid record should be removed."
   ]
  },
  {
   "cell_type": "code",
   "execution_count": 11,
   "metadata": {},
   "outputs": [
    {
     "data": {
      "text/plain": [
       "101200"
      ]
     },
     "execution_count": 11,
     "metadata": {},
     "output_type": "execute_result"
    }
   ],
   "source": [
    "df_main = df_main.dropna()\n",
    "len(df_main)"
   ]
  },
  {
   "cell_type": "markdown",
   "metadata": {},
   "source": [
    "5. Change color_name column to color."
   ]
  },
  {
   "cell_type": "code",
   "execution_count": 12,
   "metadata": {},
   "outputs": [
    {
     "data": {
      "text/plain": [
       "Index(['x', 'y', 'z', 'color_id', 'color'], dtype='object')"
      ]
     },
     "execution_count": 12,
     "metadata": {},
     "output_type": "execute_result"
    }
   ],
   "source": [
    "df_main = df_main.rename({\"color_name\": \"color\"}, axis=1)\n",
    "df_main.columns"
   ]
  },
  {
   "cell_type": "markdown",
   "metadata": {},
   "source": [
    "6. List unique color values."
   ]
  },
  {
   "cell_type": "code",
   "execution_count": 13,
   "metadata": {},
   "outputs": [
    {
     "data": {
      "text/plain": [
       "['green', 'orange', 'yellow', 'red', 'black', 'blue']"
      ]
     },
     "execution_count": 13,
     "metadata": {},
     "output_type": "execute_result"
    }
   ],
   "source": [
    "list(df_main[\"color\"].unique())"
   ]
  },
  {
   "cell_type": "markdown",
   "metadata": {},
   "source": [
    "7. Leave only data with z = 100."
   ]
  },
  {
   "cell_type": "code",
   "execution_count": 14,
   "metadata": {},
   "outputs": [],
   "source": [
    "df_filtered = df_main[df_main[\"z\"] == 100]"
   ]
  },
  {
   "cell_type": "code",
   "execution_count": 15,
   "metadata": {},
   "outputs": [
    {
     "data": {
      "text/html": [
       "<div>\n",
       "<style scoped>\n",
       "    .dataframe tbody tr th:only-of-type {\n",
       "        vertical-align: middle;\n",
       "    }\n",
       "\n",
       "    .dataframe tbody tr th {\n",
       "        vertical-align: top;\n",
       "    }\n",
       "\n",
       "    .dataframe thead th {\n",
       "        text-align: right;\n",
       "    }\n",
       "</style>\n",
       "<table border=\"1\" class=\"dataframe\">\n",
       "  <thead>\n",
       "    <tr style=\"text-align: right;\">\n",
       "      <th></th>\n",
       "      <th>x</th>\n",
       "      <th>y</th>\n",
       "      <th>z</th>\n",
       "      <th>color_id</th>\n",
       "      <th>color</th>\n",
       "    </tr>\n",
       "  </thead>\n",
       "  <tbody>\n",
       "    <tr>\n",
       "      <th>122</th>\n",
       "      <td>-0.850851</td>\n",
       "      <td>-0.441336</td>\n",
       "      <td>100.0</td>\n",
       "      <td>2</td>\n",
       "      <td>blue</td>\n",
       "    </tr>\n",
       "    <tr>\n",
       "      <th>209</th>\n",
       "      <td>-0.458458</td>\n",
       "      <td>-0.401101</td>\n",
       "      <td>100.0</td>\n",
       "      <td>2</td>\n",
       "      <td>blue</td>\n",
       "    </tr>\n",
       "    <tr>\n",
       "      <th>249</th>\n",
       "      <td>-1.667668</td>\n",
       "      <td>-0.329684</td>\n",
       "      <td>100.0</td>\n",
       "      <td>2</td>\n",
       "      <td>blue</td>\n",
       "    </tr>\n",
       "    <tr>\n",
       "      <th>418</th>\n",
       "      <td>0.394394</td>\n",
       "      <td>-0.439959</td>\n",
       "      <td>100.0</td>\n",
       "      <td>2</td>\n",
       "      <td>blue</td>\n",
       "    </tr>\n",
       "    <tr>\n",
       "      <th>420</th>\n",
       "      <td>1.703704</td>\n",
       "      <td>-0.316621</td>\n",
       "      <td>100.0</td>\n",
       "      <td>2</td>\n",
       "      <td>blue</td>\n",
       "    </tr>\n",
       "    <tr>\n",
       "      <th>...</th>\n",
       "      <td>...</td>\n",
       "      <td>...</td>\n",
       "      <td>...</td>\n",
       "      <td>...</td>\n",
       "      <td>...</td>\n",
       "    </tr>\n",
       "    <tr>\n",
       "      <th>100966</th>\n",
       "      <td>0.642643</td>\n",
       "      <td>-0.399358</td>\n",
       "      <td>100.0</td>\n",
       "      <td>2</td>\n",
       "      <td>blue</td>\n",
       "    </tr>\n",
       "    <tr>\n",
       "      <th>100998</th>\n",
       "      <td>1.555556</td>\n",
       "      <td>-0.267015</td>\n",
       "      <td>100.0</td>\n",
       "      <td>2</td>\n",
       "      <td>blue</td>\n",
       "    </tr>\n",
       "    <tr>\n",
       "      <th>101098</th>\n",
       "      <td>0.314314</td>\n",
       "      <td>-0.469043</td>\n",
       "      <td>100.0</td>\n",
       "      <td>2</td>\n",
       "      <td>blue</td>\n",
       "    </tr>\n",
       "    <tr>\n",
       "      <th>101121</th>\n",
       "      <td>1.559560</td>\n",
       "      <td>-0.258990</td>\n",
       "      <td>100.0</td>\n",
       "      <td>2</td>\n",
       "      <td>blue</td>\n",
       "    </tr>\n",
       "    <tr>\n",
       "      <th>101123</th>\n",
       "      <td>-1.611612</td>\n",
       "      <td>-0.290824</td>\n",
       "      <td>100.0</td>\n",
       "      <td>2</td>\n",
       "      <td>blue</td>\n",
       "    </tr>\n",
       "  </tbody>\n",
       "</table>\n",
       "<p>1200 rows × 5 columns</p>\n",
       "</div>"
      ],
      "text/plain": [
       "               x         y      z  color_id color\n",
       "122    -0.850851 -0.441336  100.0         2  blue\n",
       "209    -0.458458 -0.401101  100.0         2  blue\n",
       "249    -1.667668 -0.329684  100.0         2  blue\n",
       "418     0.394394 -0.439959  100.0         2  blue\n",
       "420     1.703704 -0.316621  100.0         2  blue\n",
       "...          ...       ...    ...       ...   ...\n",
       "100966  0.642643 -0.399358  100.0         2  blue\n",
       "100998  1.555556 -0.267015  100.0         2  blue\n",
       "101098  0.314314 -0.469043  100.0         2  blue\n",
       "101121  1.559560 -0.258990  100.0         2  blue\n",
       "101123 -1.611612 -0.290824  100.0         2  blue\n",
       "\n",
       "[1200 rows x 5 columns]"
      ]
     },
     "execution_count": 15,
     "metadata": {},
     "output_type": "execute_result"
    }
   ],
   "source": [
    "df_filtered"
   ]
  },
  {
   "cell_type": "markdown",
   "metadata": {},
   "source": [
    "8. Remove red points with a distance from average red points’ position above 1 sigma."
   ]
  },
  {
   "cell_type": "code",
   "execution_count": 16,
   "metadata": {},
   "outputs": [],
   "source": [
    "df_red = df_filtered[df_filtered[\"color\"] == \"red\"]"
   ]
  },
  {
   "cell_type": "code",
   "execution_count": 17,
   "metadata": {},
   "outputs": [],
   "source": [
    "avg_red_point = df_red[[\"x\", \"y\", \"z\"]].mean()\n",
    "avg_red_point = avg_red_point.values"
   ]
  },
  {
   "cell_type": "code",
   "execution_count": 18,
   "metadata": {},
   "outputs": [],
   "source": [
    "def count_distance(avg_point, df_points):\n",
    "    points = df_points[[\"x\", \"y\", \"z\"]].values\n",
    "    distances = np.linalg.norm(points - avg_point, axis=1)\n",
    "    return distances"
   ]
  },
  {
   "cell_type": "code",
   "execution_count": 19,
   "metadata": {},
   "outputs": [
    {
     "data": {
      "text/plain": [
       "0.05434597366461736"
      ]
     },
     "execution_count": 19,
     "metadata": {},
     "output_type": "execute_result"
    }
   ],
   "source": [
    "distances = count_distance(avg_red_point, df_red)\n",
    "sigma = np.std(distances)\n",
    "sigma"
   ]
  },
  {
   "cell_type": "markdown",
   "metadata": {},
   "source": [
    "How many points I should remove (just for later validation)."
   ]
  },
  {
   "cell_type": "code",
   "execution_count": 20,
   "metadata": {},
   "outputs": [
    {
     "data": {
      "text/plain": [
       "80"
      ]
     },
     "execution_count": 20,
     "metadata": {},
     "output_type": "execute_result"
    }
   ],
   "source": [
    "np.sum(distances > sigma)"
   ]
  },
  {
   "cell_type": "markdown",
   "metadata": {},
   "source": [
    "Removing unnecessary rows."
   ]
  },
  {
   "cell_type": "code",
   "execution_count": 21,
   "metadata": {},
   "outputs": [],
   "source": [
    "def keep_row(row):\n",
    "    if row[\"color\"] != \"red\":\n",
    "        return True\n",
    "    else:\n",
    "        point = row[[\"x\", \"y\", \"z\"]].values\n",
    "        dist = np.linalg.norm(point - avg_red_point)\n",
    "        if dist <= sigma:\n",
    "            return True\n",
    "        else:\n",
    "            return False"
   ]
  },
  {
   "cell_type": "code",
   "execution_count": 22,
   "metadata": {},
   "outputs": [
    {
     "data": {
      "text/html": [
       "<div>\n",
       "<style scoped>\n",
       "    .dataframe tbody tr th:only-of-type {\n",
       "        vertical-align: middle;\n",
       "    }\n",
       "\n",
       "    .dataframe tbody tr th {\n",
       "        vertical-align: top;\n",
       "    }\n",
       "\n",
       "    .dataframe thead th {\n",
       "        text-align: right;\n",
       "    }\n",
       "</style>\n",
       "<table border=\"1\" class=\"dataframe\">\n",
       "  <thead>\n",
       "    <tr style=\"text-align: right;\">\n",
       "      <th></th>\n",
       "      <th>x</th>\n",
       "      <th>y</th>\n",
       "      <th>z</th>\n",
       "      <th>color_id</th>\n",
       "      <th>color</th>\n",
       "    </tr>\n",
       "  </thead>\n",
       "  <tbody>\n",
       "    <tr>\n",
       "      <th>122</th>\n",
       "      <td>-0.850851</td>\n",
       "      <td>-0.441336</td>\n",
       "      <td>100.0</td>\n",
       "      <td>2</td>\n",
       "      <td>blue</td>\n",
       "    </tr>\n",
       "    <tr>\n",
       "      <th>209</th>\n",
       "      <td>-0.458458</td>\n",
       "      <td>-0.401101</td>\n",
       "      <td>100.0</td>\n",
       "      <td>2</td>\n",
       "      <td>blue</td>\n",
       "    </tr>\n",
       "    <tr>\n",
       "      <th>249</th>\n",
       "      <td>-1.667668</td>\n",
       "      <td>-0.329684</td>\n",
       "      <td>100.0</td>\n",
       "      <td>2</td>\n",
       "      <td>blue</td>\n",
       "    </tr>\n",
       "    <tr>\n",
       "      <th>418</th>\n",
       "      <td>0.394394</td>\n",
       "      <td>-0.439959</td>\n",
       "      <td>100.0</td>\n",
       "      <td>2</td>\n",
       "      <td>blue</td>\n",
       "    </tr>\n",
       "    <tr>\n",
       "      <th>420</th>\n",
       "      <td>1.703704</td>\n",
       "      <td>-0.316621</td>\n",
       "      <td>100.0</td>\n",
       "      <td>2</td>\n",
       "      <td>blue</td>\n",
       "    </tr>\n",
       "    <tr>\n",
       "      <th>...</th>\n",
       "      <td>...</td>\n",
       "      <td>...</td>\n",
       "      <td>...</td>\n",
       "      <td>...</td>\n",
       "      <td>...</td>\n",
       "    </tr>\n",
       "    <tr>\n",
       "      <th>100966</th>\n",
       "      <td>0.642643</td>\n",
       "      <td>-0.399358</td>\n",
       "      <td>100.0</td>\n",
       "      <td>2</td>\n",
       "      <td>blue</td>\n",
       "    </tr>\n",
       "    <tr>\n",
       "      <th>100998</th>\n",
       "      <td>1.555556</td>\n",
       "      <td>-0.267015</td>\n",
       "      <td>100.0</td>\n",
       "      <td>2</td>\n",
       "      <td>blue</td>\n",
       "    </tr>\n",
       "    <tr>\n",
       "      <th>101098</th>\n",
       "      <td>0.314314</td>\n",
       "      <td>-0.469043</td>\n",
       "      <td>100.0</td>\n",
       "      <td>2</td>\n",
       "      <td>blue</td>\n",
       "    </tr>\n",
       "    <tr>\n",
       "      <th>101121</th>\n",
       "      <td>1.559560</td>\n",
       "      <td>-0.258990</td>\n",
       "      <td>100.0</td>\n",
       "      <td>2</td>\n",
       "      <td>blue</td>\n",
       "    </tr>\n",
       "    <tr>\n",
       "      <th>101123</th>\n",
       "      <td>-1.611612</td>\n",
       "      <td>-0.290824</td>\n",
       "      <td>100.0</td>\n",
       "      <td>2</td>\n",
       "      <td>blue</td>\n",
       "    </tr>\n",
       "  </tbody>\n",
       "</table>\n",
       "<p>1120 rows × 5 columns</p>\n",
       "</div>"
      ],
      "text/plain": [
       "               x         y      z  color_id color\n",
       "122    -0.850851 -0.441336  100.0         2  blue\n",
       "209    -0.458458 -0.401101  100.0         2  blue\n",
       "249    -1.667668 -0.329684  100.0         2  blue\n",
       "418     0.394394 -0.439959  100.0         2  blue\n",
       "420     1.703704 -0.316621  100.0         2  blue\n",
       "...          ...       ...    ...       ...   ...\n",
       "100966  0.642643 -0.399358  100.0         2  blue\n",
       "100998  1.555556 -0.267015  100.0         2  blue\n",
       "101098  0.314314 -0.469043  100.0         2  blue\n",
       "101121  1.559560 -0.258990  100.0         2  blue\n",
       "101123 -1.611612 -0.290824  100.0         2  blue\n",
       "\n",
       "[1120 rows x 5 columns]"
      ]
     },
     "execution_count": 22,
     "metadata": {},
     "output_type": "execute_result"
    }
   ],
   "source": [
    "df_filtered = df_filtered[df_filtered.apply(keep_row, axis=1)]\n",
    "df_filtered"
   ]
  },
  {
   "cell_type": "markdown",
   "metadata": {},
   "source": [
    "9. Make sure rows indices are consecutive integers (starting from 0)."
   ]
  },
  {
   "cell_type": "code",
   "execution_count": 23,
   "metadata": {},
   "outputs": [],
   "source": [
    "df_filtered = df_filtered.reset_index()"
   ]
  },
  {
   "cell_type": "code",
   "execution_count": 24,
   "metadata": {},
   "outputs": [
    {
     "data": {
      "text/html": [
       "<div>\n",
       "<style scoped>\n",
       "    .dataframe tbody tr th:only-of-type {\n",
       "        vertical-align: middle;\n",
       "    }\n",
       "\n",
       "    .dataframe tbody tr th {\n",
       "        vertical-align: top;\n",
       "    }\n",
       "\n",
       "    .dataframe thead th {\n",
       "        text-align: right;\n",
       "    }\n",
       "</style>\n",
       "<table border=\"1\" class=\"dataframe\">\n",
       "  <thead>\n",
       "    <tr style=\"text-align: right;\">\n",
       "      <th></th>\n",
       "      <th>x</th>\n",
       "      <th>y</th>\n",
       "      <th>z</th>\n",
       "      <th>color_id</th>\n",
       "      <th>color</th>\n",
       "    </tr>\n",
       "  </thead>\n",
       "  <tbody>\n",
       "    <tr>\n",
       "      <th>0</th>\n",
       "      <td>-0.850851</td>\n",
       "      <td>-0.441336</td>\n",
       "      <td>100.0</td>\n",
       "      <td>2</td>\n",
       "      <td>blue</td>\n",
       "    </tr>\n",
       "    <tr>\n",
       "      <th>1</th>\n",
       "      <td>-0.458458</td>\n",
       "      <td>-0.401101</td>\n",
       "      <td>100.0</td>\n",
       "      <td>2</td>\n",
       "      <td>blue</td>\n",
       "    </tr>\n",
       "    <tr>\n",
       "      <th>2</th>\n",
       "      <td>-1.667668</td>\n",
       "      <td>-0.329684</td>\n",
       "      <td>100.0</td>\n",
       "      <td>2</td>\n",
       "      <td>blue</td>\n",
       "    </tr>\n",
       "    <tr>\n",
       "      <th>3</th>\n",
       "      <td>0.394394</td>\n",
       "      <td>-0.439959</td>\n",
       "      <td>100.0</td>\n",
       "      <td>2</td>\n",
       "      <td>blue</td>\n",
       "    </tr>\n",
       "    <tr>\n",
       "      <th>4</th>\n",
       "      <td>1.703704</td>\n",
       "      <td>-0.316621</td>\n",
       "      <td>100.0</td>\n",
       "      <td>2</td>\n",
       "      <td>blue</td>\n",
       "    </tr>\n",
       "    <tr>\n",
       "      <th>...</th>\n",
       "      <td>...</td>\n",
       "      <td>...</td>\n",
       "      <td>...</td>\n",
       "      <td>...</td>\n",
       "      <td>...</td>\n",
       "    </tr>\n",
       "    <tr>\n",
       "      <th>1115</th>\n",
       "      <td>0.642643</td>\n",
       "      <td>-0.399358</td>\n",
       "      <td>100.0</td>\n",
       "      <td>2</td>\n",
       "      <td>blue</td>\n",
       "    </tr>\n",
       "    <tr>\n",
       "      <th>1116</th>\n",
       "      <td>1.555556</td>\n",
       "      <td>-0.267015</td>\n",
       "      <td>100.0</td>\n",
       "      <td>2</td>\n",
       "      <td>blue</td>\n",
       "    </tr>\n",
       "    <tr>\n",
       "      <th>1117</th>\n",
       "      <td>0.314314</td>\n",
       "      <td>-0.469043</td>\n",
       "      <td>100.0</td>\n",
       "      <td>2</td>\n",
       "      <td>blue</td>\n",
       "    </tr>\n",
       "    <tr>\n",
       "      <th>1118</th>\n",
       "      <td>1.559560</td>\n",
       "      <td>-0.258990</td>\n",
       "      <td>100.0</td>\n",
       "      <td>2</td>\n",
       "      <td>blue</td>\n",
       "    </tr>\n",
       "    <tr>\n",
       "      <th>1119</th>\n",
       "      <td>-1.611612</td>\n",
       "      <td>-0.290824</td>\n",
       "      <td>100.0</td>\n",
       "      <td>2</td>\n",
       "      <td>blue</td>\n",
       "    </tr>\n",
       "  </tbody>\n",
       "</table>\n",
       "<p>1120 rows × 5 columns</p>\n",
       "</div>"
      ],
      "text/plain": [
       "             x         y      z  color_id color\n",
       "0    -0.850851 -0.441336  100.0         2  blue\n",
       "1    -0.458458 -0.401101  100.0         2  blue\n",
       "2    -1.667668 -0.329684  100.0         2  blue\n",
       "3     0.394394 -0.439959  100.0         2  blue\n",
       "4     1.703704 -0.316621  100.0         2  blue\n",
       "...        ...       ...    ...       ...   ...\n",
       "1115  0.642643 -0.399358  100.0         2  blue\n",
       "1116  1.555556 -0.267015  100.0         2  blue\n",
       "1117  0.314314 -0.469043  100.0         2  blue\n",
       "1118  1.559560 -0.258990  100.0         2  blue\n",
       "1119 -1.611612 -0.290824  100.0         2  blue\n",
       "\n",
       "[1120 rows x 5 columns]"
      ]
     },
     "execution_count": 24,
     "metadata": {},
     "output_type": "execute_result"
    }
   ],
   "source": [
    "df_filtered = df_filtered[[\"x\", \"y\", \"z\", \"color_id\", \"color\"]]\n",
    "df_filtered"
   ]
  },
  {
   "cell_type": "markdown",
   "metadata": {},
   "source": [
    "10. Save the remaining points in a HDF5 file with dataset ns1 containing columns: x, y, color."
   ]
  },
  {
   "cell_type": "code",
   "execution_count": 25,
   "metadata": {},
   "outputs": [],
   "source": [
    "df_to_save = df_filtered[[\"x\", \"y\", \"color\"]]"
   ]
  },
  {
   "cell_type": "code",
   "execution_count": 26,
   "metadata": {},
   "outputs": [],
   "source": [
    "df_to_save.to_hdf('ns1.h5', key='ns1', mode='w')"
   ]
  },
  {
   "cell_type": "markdown",
   "metadata": {},
   "source": [
    "11. Plot data from the HDF5 file using scatter plot (with corresponding colors)."
   ]
  },
  {
   "cell_type": "code",
   "execution_count": 27,
   "metadata": {},
   "outputs": [],
   "source": [
    "df_saved = pd.read_hdf(\"ns1.h5\", \"ns1\")"
   ]
  },
  {
   "cell_type": "code",
   "execution_count": 28,
   "metadata": {},
   "outputs": [
    {
     "data": {
      "image/png": "[encoded data removed]",
      "text/plain": [
       "<Figure size 720x720 with 1 Axes>"
      ]
     },
     "metadata": {
      "needs_background": "light"
     },
     "output_type": "display_data"
    }
   ],
   "source": [
    "fig = plt.figure(figsize=(10, 10))\n",
    "ax = plt.scatter(x=df_saved[\"x\"], y=df_saved[\"y\"], c=df_saved[\"color\"])"
   ]
  },
  {
   "cell_type": "markdown",
   "metadata": {},
   "source": [
    "12. Add above plot to repository (as separate png file or as notebook cell output)."
   ]
  },
  {
   "cell_type": "code",
   "execution_count": 29,
   "metadata": {},
   "outputs": [],
   "source": [
    "fig.savefig(\"plot.png\", bbox_inches='tight')"
   ]
  }
 ],
 "metadata": {
  "kernelspec": {
   "display_name": "Python 3",
   "language": "python",
   "name": "python3"
  },
  "language_info": {
   "codemirror_mode": {
    "name": "ipython",
    "version": 3
   },
   "file_extension": ".py",
   "mimetype": "text/x-python",
   "name": "python",
   "nbconvert_exporter": "python",
   "pygments_lexer": "ipython3",
   "version": "3.6.9"
  }
 },
 "nbformat": 4,
 "nbformat_minor": 4
}
